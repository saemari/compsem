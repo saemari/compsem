{
  "nbformat": 4,
  "nbformat_minor": 0,
  "metadata": {
    "colab": {
      "provenance": []
    },
    "kernelspec": {
      "name": "python3",
      "display_name": "Python 3"
    },
    "language_info": {
      "name": "python"
    }
  },
  "cells": [
    {
      "cell_type": "markdown",
      "source": [
        "# Домашнее задание 2. Кластеризация векторного пространства"
      ],
      "metadata": {
        "id": "0K6M0ueyoAe1"
      }
    },
    {
      "cell_type": "markdown",
      "source": [
        "### Пункт 7.\n"
      ],
      "metadata": {
        "id": "CdIzXpwYowgs"
      }
    },
    {
      "cell_type": "markdown",
      "source": [
        "Для составления датасета использовался основной НКРЯ, в лексико-грамматическом поиске - лемма \"разбить\" + существительное в именительном|винительном падеже на расстоянии от -2 до 2, с синтаксическим отношением зависимости от \"разбить\".\n",
        "\n",
        "Далее отсортированная по вхождениям и не сгруппированная по расстоянию таблица частотности была выгружена, первые 100 словосочетаний проверены по примерам на релевантность. Например, \"кровь\" не подходила под условия, чаще всего выступая адъюнктом образа действия:\n",
        "\n",
        "> *Разбил в **кровь** костяшки пальцев, расшиб себе нос, и кровь стекала по подбородку на шею и дальше на грудь, пачкала одежду.*\n",
        " [Николай Божиков. Тётка // «Дальний Восток», 2019]\n",
        "\n",
        "> *Он показался ей косоротым, оттого, что губы его были разбиты в **кровь**, и невменяемым: ошалелые глаза его не вбирали света и человеческого образа, словно алюминиевые.*\n",
        " [В. Г. Галактионова. Спящие от печали (2010)]\n",
        "\n",
        "По подобной причине не подошла и \"часть\" (хотя было несколько хороших примеров с *частью автомобиля*, *частью [армейской]*), \"кусок\", \"щепа\", \"прах\", \"пух\", \"щепка\":\n",
        "\n",
        "> *Итак, объект не дан, так как еще не имеет собственного представления, он не представлен, его еще не выделили из окружающей среды (фона), не разбили на **части**, не перевели эти части во новые, умопостигаемые взаимосвязи и отношения, создав элементы.*\n",
        " [В. А. Подорога. Проект и опыт (2004)]\n",
        "\n",
        "> *Все мозги разбил на **части**, все извилины заплел*\n",
        " [С. П. Капица. Мои воспоминания (2008)]\n",
        "\n",
        "> *Я был свидетелем, как он разбил на **куски** мраморную стилизованную чайку, косо положенную на кусок зеленого стекла, изображающего средиземноморскую волну, специально для него отлитую на стекольном заводе.*\n",
        " [В. П. Катаев. Алмазный мой венец (1975-1977)]\n",
        "\n",
        "> *Вытоптанные поля, разрушенные фанзы с выбитыми рамами и дверями, разорённые кумирни с вытащенными наружу и в **куски** разбитыми китайскими «богами».*\n",
        " [А. Г. Колмогоров. Мне доставшееся: Семейные хроники Надежды Лухмановой (2012)]\n",
        "\n",
        "> *Древко пальмы его было разбито в **щепу**.*\n",
        " [Александр Григоренко. Мэбэт // «Новый мир», 2011]\n",
        "\n",
        "> *Брызнули разбитые в **щепы** ручки штурвала, еще раз болезненно скривился Скрыдлов, а Верещагин ощутил сильный удар в зад.*\n",
        " [Борис Васильев. Были и небыли. Книга 1 (1988)]\n",
        "\n",
        "> *В результате Великой Октябрьской Социалистической революции был в **прах** разбит эксплоататорский строй и создан новый, самый передовой строй в мире — советский.*\n",
        " [И. И. Минц. Великая Отечественная война Советского Союза (1947)]\n",
        "\n",
        "> *Мост в **прах** разбит, следов не видно.*\n",
        " [Константин Симонов. Живые и мертвые (1955-1959)]\n",
        "\n",
        "> *Мечты найти себе девушку на форуме разбиты в **пух** и прах...*\n",
        " [Встреча (форум) (2005)]\n",
        "\n",
        "> *Вон совхоз «Кулундинский» — в **пух** был разбит ветром, а прикрыл поля березой, тополем, ожил, сеет…*\n",
        " [Ю. Д. Черниченко. Яровой клин (1974)]\n",
        "\n",
        "> *— Вы помните, доктор Ланда, как мы сносили вниз пианино, а ваша супруга бегала вокруг и боялась, что мы разобьем в **щепки**?*\n",
        " [Аркадий Львов. Двор (1981)]\n",
        "\n",
        "> *Три крайних улья были разбиты в **щепки**.*\n",
        " [В. Я. Зазубрин. Горы (1934)]\n",
        "\n",
        "Также исключены были неподходящие \"раз\", \"день\", которые не были аргументами, но указывали на время:\n",
        "\n",
        "> *За все годы я раз выкатился, **раз** разбил АНО, раз погнул серьгу.*\n",
        " [В. В. Ершов. Дневник (1999) // Летные дневники. 1984-2002 годы / Проза.ru]\n",
        "\n",
        "> *Объединившись с парфянами, он еще **раз** разобьет римлян.*\n",
        " [Дмитрий Шляпентох. Конец Истории: благословенный Иов // «Сибирские огни», 2013]\n",
        "\n",
        "> *На следующий **день** македонцы разбили вчетверо превосходившего их противника.*\n",
        " [А. Н. Исаков. Оценка активов ― «трамплин» для развития (2004) // «Газовая промышленность», 17.11.2004]\n",
        "\n",
        "> *Обороняющемуся удалось удержать ложементы до 19-го апрѣля, когда французы, въ значительныхъ силахъ, отбросили бывшій въ прикрытіи Углицкій полкъ и, оттѣснивъ работавшихъ надъ исправленіемъ разбитыхъ за **день** ложементовъ волынцевъ, заняли наши обѣ контръ-апрошныя траншеи и, несмотря на сильный огонь съ оборонительной линіи, утвердились въ нихъ, нанеся намъ уронъ въ 425 человѣкъ.*\n",
        " [И. Н. Протопопов, С. И. Соваж. Исторический путеводитель по Севастополю (1903-1904)]\n",
        "\n",
        "Также слово \"тур\" оказалось словом \"турок\", ошибкой определения леммы, поэтому оно тоже было убрано.\n",
        "\n",
        "Беглый поиск этого же набора по вручную размеченной омонимии не дал хороших результатов (часто имена собственные, не хватило словосочетаний и частотность была сомнительной), поэтому доверились автоматической разметке и ручного отсмотра словосочетаний.\n",
        "\n",
        "В итоге в датасете получилось 100 словосочетаний,  из которых подошло 90"
      ],
      "metadata": {
        "id": "FRAuMtsfMJJZ"
      }
    },
    {
      "cell_type": "code",
      "execution_count": 1,
      "metadata": {
        "id": "Bk-FoaINnrJ8"
      },
      "outputs": [],
      "source": [
        "import pandas as pd"
      ]
    },
    {
      "cell_type": "code",
      "source": [
        "data = pd.read_excel(\"razbit'_S.xlsx\")\n",
        "df = pd.DataFrame(data, columns=['word_0', 'word_1', 'hits'])\n",
        "df.head()"
      ],
      "metadata": {
        "colab": {
          "base_uri": "https://localhost:8080/",
          "height": 206
        },
        "id": "7ixJFUQ0tJKH",
        "outputId": "7bf57d2e-f73d-40cf-c486-3f6a34e714f9"
      },
      "execution_count": 4,
      "outputs": [
        {
          "output_type": "execute_result",
          "data": {
            "text/plain": [
              "    word_0   word_1   hits\n",
              "0  разбить   стекло  409.0\n",
              "1  разбить   голова  406.0\n",
              "2  разбить     окно  194.0\n",
              "3  разбить  палатка  190.0\n",
              "4  разбить    армия  167.0"
            ],
            "text/html": [
              "\n",
              "  <div id=\"df-74de2886-477a-4860-9c43-400fc714c23e\" class=\"colab-df-container\">\n",
              "    <div>\n",
              "<style scoped>\n",
              "    .dataframe tbody tr th:only-of-type {\n",
              "        vertical-align: middle;\n",
              "    }\n",
              "\n",
              "    .dataframe tbody tr th {\n",
              "        vertical-align: top;\n",
              "    }\n",
              "\n",
              "    .dataframe thead th {\n",
              "        text-align: right;\n",
              "    }\n",
              "</style>\n",
              "<table border=\"1\" class=\"dataframe\">\n",
              "  <thead>\n",
              "    <tr style=\"text-align: right;\">\n",
              "      <th></th>\n",
              "      <th>word_0</th>\n",
              "      <th>word_1</th>\n",
              "      <th>hits</th>\n",
              "    </tr>\n",
              "  </thead>\n",
              "  <tbody>\n",
              "    <tr>\n",
              "      <th>0</th>\n",
              "      <td>разбить</td>\n",
              "      <td>стекло</td>\n",
              "      <td>409.0</td>\n",
              "    </tr>\n",
              "    <tr>\n",
              "      <th>1</th>\n",
              "      <td>разбить</td>\n",
              "      <td>голова</td>\n",
              "      <td>406.0</td>\n",
              "    </tr>\n",
              "    <tr>\n",
              "      <th>2</th>\n",
              "      <td>разбить</td>\n",
              "      <td>окно</td>\n",
              "      <td>194.0</td>\n",
              "    </tr>\n",
              "    <tr>\n",
              "      <th>3</th>\n",
              "      <td>разбить</td>\n",
              "      <td>палатка</td>\n",
              "      <td>190.0</td>\n",
              "    </tr>\n",
              "    <tr>\n",
              "      <th>4</th>\n",
              "      <td>разбить</td>\n",
              "      <td>армия</td>\n",
              "      <td>167.0</td>\n",
              "    </tr>\n",
              "  </tbody>\n",
              "</table>\n",
              "</div>\n",
              "    <div class=\"colab-df-buttons\">\n",
              "\n",
              "  <div class=\"colab-df-container\">\n",
              "    <button class=\"colab-df-convert\" onclick=\"convertToInteractive('df-74de2886-477a-4860-9c43-400fc714c23e')\"\n",
              "            title=\"Convert this dataframe to an interactive table.\"\n",
              "            style=\"display:none;\">\n",
              "\n",
              "  <svg xmlns=\"http://www.w3.org/2000/svg\" height=\"24px\" viewBox=\"0 -960 960 960\">\n",
              "    <path d=\"M120-120v-720h720v720H120Zm60-500h600v-160H180v160Zm220 220h160v-160H400v160Zm0 220h160v-160H400v160ZM180-400h160v-160H180v160Zm440 0h160v-160H620v160ZM180-180h160v-160H180v160Zm440 0h160v-160H620v160Z\"/>\n",
              "  </svg>\n",
              "    </button>\n",
              "\n",
              "  <style>\n",
              "    .colab-df-container {\n",
              "      display:flex;\n",
              "      gap: 12px;\n",
              "    }\n",
              "\n",
              "    .colab-df-convert {\n",
              "      background-color: #E8F0FE;\n",
              "      border: none;\n",
              "      border-radius: 50%;\n",
              "      cursor: pointer;\n",
              "      display: none;\n",
              "      fill: #1967D2;\n",
              "      height: 32px;\n",
              "      padding: 0 0 0 0;\n",
              "      width: 32px;\n",
              "    }\n",
              "\n",
              "    .colab-df-convert:hover {\n",
              "      background-color: #E2EBFA;\n",
              "      box-shadow: 0px 1px 2px rgba(60, 64, 67, 0.3), 0px 1px 3px 1px rgba(60, 64, 67, 0.15);\n",
              "      fill: #174EA6;\n",
              "    }\n",
              "\n",
              "    .colab-df-buttons div {\n",
              "      margin-bottom: 4px;\n",
              "    }\n",
              "\n",
              "    [theme=dark] .colab-df-convert {\n",
              "      background-color: #3B4455;\n",
              "      fill: #D2E3FC;\n",
              "    }\n",
              "\n",
              "    [theme=dark] .colab-df-convert:hover {\n",
              "      background-color: #434B5C;\n",
              "      box-shadow: 0px 1px 3px 1px rgba(0, 0, 0, 0.15);\n",
              "      filter: drop-shadow(0px 1px 2px rgba(0, 0, 0, 0.3));\n",
              "      fill: #FFFFFF;\n",
              "    }\n",
              "  </style>\n",
              "\n",
              "    <script>\n",
              "      const buttonEl =\n",
              "        document.querySelector('#df-74de2886-477a-4860-9c43-400fc714c23e button.colab-df-convert');\n",
              "      buttonEl.style.display =\n",
              "        google.colab.kernel.accessAllowed ? 'block' : 'none';\n",
              "\n",
              "      async function convertToInteractive(key) {\n",
              "        const element = document.querySelector('#df-74de2886-477a-4860-9c43-400fc714c23e');\n",
              "        const dataTable =\n",
              "          await google.colab.kernel.invokeFunction('convertToInteractive',\n",
              "                                                    [key], {});\n",
              "        if (!dataTable) return;\n",
              "\n",
              "        const docLinkHtml = 'Like what you see? Visit the ' +\n",
              "          '<a target=\"_blank\" href=https://colab.research.google.com/notebooks/data_table.ipynb>data table notebook</a>'\n",
              "          + ' to learn more about interactive tables.';\n",
              "        element.innerHTML = '';\n",
              "        dataTable['output_type'] = 'display_data';\n",
              "        await google.colab.output.renderOutput(dataTable, element);\n",
              "        const docLink = document.createElement('div');\n",
              "        docLink.innerHTML = docLinkHtml;\n",
              "        element.appendChild(docLink);\n",
              "      }\n",
              "    </script>\n",
              "  </div>\n",
              "\n",
              "\n",
              "<div id=\"df-3f28a94f-eb30-4cca-9b0c-36aee8699e6d\">\n",
              "  <button class=\"colab-df-quickchart\" onclick=\"quickchart('df-3f28a94f-eb30-4cca-9b0c-36aee8699e6d')\"\n",
              "            title=\"Suggest charts\"\n",
              "            style=\"display:none;\">\n",
              "\n",
              "<svg xmlns=\"http://www.w3.org/2000/svg\" height=\"24px\"viewBox=\"0 0 24 24\"\n",
              "     width=\"24px\">\n",
              "    <g>\n",
              "        <path d=\"M19 3H5c-1.1 0-2 .9-2 2v14c0 1.1.9 2 2 2h14c1.1 0 2-.9 2-2V5c0-1.1-.9-2-2-2zM9 17H7v-7h2v7zm4 0h-2V7h2v10zm4 0h-2v-4h2v4z\"/>\n",
              "    </g>\n",
              "</svg>\n",
              "  </button>\n",
              "\n",
              "<style>\n",
              "  .colab-df-quickchart {\n",
              "      --bg-color: #E8F0FE;\n",
              "      --fill-color: #1967D2;\n",
              "      --hover-bg-color: #E2EBFA;\n",
              "      --hover-fill-color: #174EA6;\n",
              "      --disabled-fill-color: #AAA;\n",
              "      --disabled-bg-color: #DDD;\n",
              "  }\n",
              "\n",
              "  [theme=dark] .colab-df-quickchart {\n",
              "      --bg-color: #3B4455;\n",
              "      --fill-color: #D2E3FC;\n",
              "      --hover-bg-color: #434B5C;\n",
              "      --hover-fill-color: #FFFFFF;\n",
              "      --disabled-bg-color: #3B4455;\n",
              "      --disabled-fill-color: #666;\n",
              "  }\n",
              "\n",
              "  .colab-df-quickchart {\n",
              "    background-color: var(--bg-color);\n",
              "    border: none;\n",
              "    border-radius: 50%;\n",
              "    cursor: pointer;\n",
              "    display: none;\n",
              "    fill: var(--fill-color);\n",
              "    height: 32px;\n",
              "    padding: 0;\n",
              "    width: 32px;\n",
              "  }\n",
              "\n",
              "  .colab-df-quickchart:hover {\n",
              "    background-color: var(--hover-bg-color);\n",
              "    box-shadow: 0 1px 2px rgba(60, 64, 67, 0.3), 0 1px 3px 1px rgba(60, 64, 67, 0.15);\n",
              "    fill: var(--button-hover-fill-color);\n",
              "  }\n",
              "\n",
              "  .colab-df-quickchart-complete:disabled,\n",
              "  .colab-df-quickchart-complete:disabled:hover {\n",
              "    background-color: var(--disabled-bg-color);\n",
              "    fill: var(--disabled-fill-color);\n",
              "    box-shadow: none;\n",
              "  }\n",
              "\n",
              "  .colab-df-spinner {\n",
              "    border: 2px solid var(--fill-color);\n",
              "    border-color: transparent;\n",
              "    border-bottom-color: var(--fill-color);\n",
              "    animation:\n",
              "      spin 1s steps(1) infinite;\n",
              "  }\n",
              "\n",
              "  @keyframes spin {\n",
              "    0% {\n",
              "      border-color: transparent;\n",
              "      border-bottom-color: var(--fill-color);\n",
              "      border-left-color: var(--fill-color);\n",
              "    }\n",
              "    20% {\n",
              "      border-color: transparent;\n",
              "      border-left-color: var(--fill-color);\n",
              "      border-top-color: var(--fill-color);\n",
              "    }\n",
              "    30% {\n",
              "      border-color: transparent;\n",
              "      border-left-color: var(--fill-color);\n",
              "      border-top-color: var(--fill-color);\n",
              "      border-right-color: var(--fill-color);\n",
              "    }\n",
              "    40% {\n",
              "      border-color: transparent;\n",
              "      border-right-color: var(--fill-color);\n",
              "      border-top-color: var(--fill-color);\n",
              "    }\n",
              "    60% {\n",
              "      border-color: transparent;\n",
              "      border-right-color: var(--fill-color);\n",
              "    }\n",
              "    80% {\n",
              "      border-color: transparent;\n",
              "      border-right-color: var(--fill-color);\n",
              "      border-bottom-color: var(--fill-color);\n",
              "    }\n",
              "    90% {\n",
              "      border-color: transparent;\n",
              "      border-bottom-color: var(--fill-color);\n",
              "    }\n",
              "  }\n",
              "</style>\n",
              "\n",
              "  <script>\n",
              "    async function quickchart(key) {\n",
              "      const quickchartButtonEl =\n",
              "        document.querySelector('#' + key + ' button');\n",
              "      quickchartButtonEl.disabled = true;  // To prevent multiple clicks.\n",
              "      quickchartButtonEl.classList.add('colab-df-spinner');\n",
              "      try {\n",
              "        const charts = await google.colab.kernel.invokeFunction(\n",
              "            'suggestCharts', [key], {});\n",
              "      } catch (error) {\n",
              "        console.error('Error during call to suggestCharts:', error);\n",
              "      }\n",
              "      quickchartButtonEl.classList.remove('colab-df-spinner');\n",
              "      quickchartButtonEl.classList.add('colab-df-quickchart-complete');\n",
              "    }\n",
              "    (() => {\n",
              "      let quickchartButtonEl =\n",
              "        document.querySelector('#df-3f28a94f-eb30-4cca-9b0c-36aee8699e6d button');\n",
              "      quickchartButtonEl.style.display =\n",
              "        google.colab.kernel.accessAllowed ? 'block' : 'none';\n",
              "    })();\n",
              "  </script>\n",
              "</div>\n",
              "    </div>\n",
              "  </div>\n"
            ],
            "application/vnd.google.colaboratory.intrinsic+json": {
              "type": "dataframe",
              "variable_name": "df",
              "summary": "{\n  \"name\": \"df\",\n  \"rows\": 90,\n  \"fields\": [\n    {\n      \"column\": \"word_0\",\n      \"properties\": {\n        \"dtype\": \"category\",\n        \"samples\": [\n          \"\\u0440\\u0430\\u0437\\u0431\\u0438\\u0442\\u044c\"\n        ],\n        \"num_unique_values\": 1,\n        \"semantic_type\": \"\",\n        \"description\": \"\"\n      }\n    },\n    {\n      \"column\": \"word_1\",\n      \"properties\": {\n        \"dtype\": \"string\",\n        \"samples\": [\n          \"\\u0434\\u0432\\u0435\\u0440\\u044c\"\n        ],\n        \"num_unique_values\": 90,\n        \"semantic_type\": \"\",\n        \"description\": \"\"\n      }\n    },\n    {\n      \"column\": \"hits\",\n      \"properties\": {\n        \"dtype\": \"number\",\n        \"std\": 65.94526917710965,\n        \"min\": 17.0,\n        \"max\": 409.0,\n        \"samples\": [\n          25.0\n        ],\n        \"num_unique_values\": 51,\n        \"semantic_type\": \"\",\n        \"description\": \"\"\n      }\n    }\n  ]\n}"
            }
          },
          "metadata": {},
          "execution_count": 4
        }
      ]
    },
    {
      "cell_type": "markdown",
      "source": [
        "### Пункт 1."
      ],
      "metadata": {
        "id": "K-bHlix0pI77"
      }
    },
    {
      "cell_type": "markdown",
      "source": [
        "Взяла модель с размером вектора 300, окном 20, обученную на НКРЯ, с размером словаря 189193, алгоритмом Gensim Continuous Bag-of-Words и лемматизацией"
      ],
      "metadata": {
        "id": "Rqkfx5xquOd9"
      }
    },
    {
      "cell_type": "code",
      "source": [
        "import sys\n",
        "import gensim, logging\n",
        "\n",
        "logging.basicConfig(format='%(asctime)s : %(levelname)s : %(message)s', level=logging.INFO)"
      ],
      "metadata": {
        "id": "3fUpPXAKpSRE"
      },
      "execution_count": 5,
      "outputs": []
    },
    {
      "cell_type": "code",
      "source": [
        "!pip install wget\n",
        "import wget\n",
        "from gensim.models.word2vec import Word2Vec\n",
        "from gensim.models import KeyedVectors\n",
        "import numpy as np"
      ],
      "metadata": {
        "colab": {
          "base_uri": "https://localhost:8080/"
        },
        "id": "u0NjCCxmusJx",
        "outputId": "f267f838-8224-4d6b-f0a4-187aceb61a76"
      },
      "execution_count": 9,
      "outputs": [
        {
          "output_type": "stream",
          "name": "stdout",
          "text": [
            "Requirement already satisfied: wget in /usr/local/lib/python3.10/dist-packages (3.2)\n"
          ]
        }
      ]
    },
    {
      "cell_type": "markdown",
      "source": [
        "Так как в колабе почему-то не работает zipfile, распакуем модель по-другому:"
      ],
      "metadata": {
        "id": "_nuXXmYpyrb1"
      }
    },
    {
      "cell_type": "code",
      "source": [
        "!wget http://vectors.nlpl.eu/repository/20/180.zip\n",
        "!unzip 180.zip"
      ],
      "metadata": {
        "colab": {
          "base_uri": "https://localhost:8080/"
        },
        "id": "d7rAQqaTusBF",
        "outputId": "244ea688-4b25-476b-b701-4c5efc9547d5"
      },
      "execution_count": 13,
      "outputs": [
        {
          "output_type": "stream",
          "name": "stdout",
          "text": [
            "--2024-02-15 12:44:49--  http://vectors.nlpl.eu/repository/20/180.zip\n",
            "Resolving vectors.nlpl.eu (vectors.nlpl.eu)... 129.240.189.181\n",
            "Connecting to vectors.nlpl.eu (vectors.nlpl.eu)|129.240.189.181|:80... connected.\n",
            "HTTP request sent, awaiting response... 200 OK\n",
            "Length: 484452317 (462M) [application/zip]\n",
            "Saving to: ‘180.zip’\n",
            "\n",
            "180.zip             100%[===================>] 462.01M  8.46MB/s    in 58s     \n",
            "\n",
            "2024-02-15 12:45:48 (7.94 MB/s) - ‘180.zip’ saved [484452317/484452317]\n",
            "\n",
            "Archive:  180.zip\n",
            "  inflating: meta.json               \n",
            "  inflating: model.bin               \n",
            "  inflating: model.txt               \n",
            "  inflating: README                  \n"
          ]
        }
      ]
    },
    {
      "cell_type": "code",
      "source": [
        "model = gensim.models.KeyedVectors.load_word2vec_format('model.bin', binary=True)"
      ],
      "metadata": {
        "id": "mYAoq8zvvKa6"
      },
      "execution_count": 14,
      "outputs": []
    },
    {
      "cell_type": "markdown",
      "source": [
        "Достаём из датасета вектор глагола и векторы существительных:"
      ],
      "metadata": {
        "id": "DmuYr9K903ts"
      }
    },
    {
      "cell_type": "code",
      "source": [
        "verb = 'разбить_VERB'\n",
        "nouns = []\n",
        "for line in df['word_1']:\n",
        "    nouns.append(line + '_NOUN')"
      ],
      "metadata": {
        "id": "lyYe8VwOzZer"
      },
      "execution_count": 16,
      "outputs": []
    },
    {
      "cell_type": "code",
      "source": [
        "verb_vector = np.array(model[verb])\n",
        "noun_vectors = []\n",
        "for noun in nouns:\n",
        "    if noun in model:\n",
        "        noun_vectors.append(np.array(model[noun]))"
      ],
      "metadata": {
        "id": "96lzcuA90Lml"
      },
      "execution_count": 20,
      "outputs": []
    },
    {
      "cell_type": "markdown",
      "source": [
        "### Пункт 2.\n",
        "Сложим получившиеся векторы"
      ],
      "metadata": {
        "id": "_Ex2zTq7pSve"
      }
    },
    {
      "cell_type": "code",
      "source": [
        "noun_verb_matrix = []\n",
        "for nounvec in noun_vectors:\n",
        "    noun_verb_matrix.append(verb_vector + nounvec)"
      ],
      "metadata": {
        "id": "vBczoKLjpYNC"
      },
      "execution_count": 21,
      "outputs": []
    },
    {
      "cell_type": "markdown",
      "source": [
        "\n",
        "### Пункты 3-6."
      ],
      "metadata": {
        "id": "mrKdt1lOpYei"
      }
    },
    {
      "cell_type": "markdown",
      "source": [
        "#### Иерархическая кластеризация"
      ],
      "metadata": {
        "id": "sx4ORSLX7sQi"
      }
    },
    {
      "cell_type": "markdown",
      "source": [
        "Посмотрим сначала на то, что выдаст кластеризация по умолчанию:"
      ],
      "metadata": {
        "id": "DnkLfZo-hpuR"
      }
    },
    {
      "cell_type": "code",
      "source": [
        "import matplotlib.pyplot as plt\n",
        "import scipy\n",
        "import scipy.cluster.hierarchy as hcluster"
      ],
      "metadata": {
        "id": "G12LXoFB8L2r"
      },
      "execution_count": 22,
      "outputs": []
    },
    {
      "cell_type": "code",
      "source": [
        "Z = hcluster.linkage(noun_verb_matrix)\n",
        "plt.figure()\n",
        "dn = hcluster.dendrogram(Z)\n",
        "plt.show()"
      ],
      "metadata": {
        "colab": {
          "base_uri": "https://localhost:8080/",
          "height": 425
        },
        "id": "iQDUIRKSpZcj",
        "outputId": "d92079fe-b9ee-4759-e2b0-9d49be215a7d"
      },
      "execution_count": 27,
      "outputs": [
        {
          "output_type": "display_data",
          "data": {
            "text/plain": [
              "<Figure size 640x480 with 1 Axes>"
            ],
            "image/png": "[encoded data removed]"
          },
          "metadata": {}
        }
      ]
    },
    {
      "cell_type": "code",
      "source": [
        "clusters = hcluster.fcluster(Z, 1.149)\n",
        "print('Estimated number of clusters: %d' % len(set(clusters)))"
      ],
      "metadata": {
        "colab": {
          "base_uri": "https://localhost:8080/"
        },
        "id": "tMVz-j7sKRyC",
        "outputId": "0a082914-33f8-4882-ecbf-0e100997048e"
      },
      "execution_count": 51,
      "outputs": [
        {
          "output_type": "stream",
          "name": "stdout",
          "text": [
            "Estimated number of clusters: 1\n"
          ]
        }
      ]
    },
    {
      "cell_type": "code",
      "source": [
        "clusters = hcluster.fcluster(Z, 1.148)\n",
        "print('Estimated number of clusters: %d' % len(set(clusters)))"
      ],
      "metadata": {
        "colab": {
          "base_uri": "https://localhost:8080/"
        },
        "id": "Xk05dzKhKTGO",
        "outputId": "23590fd3-a35f-49e9-8184-deb0cda1d111"
      },
      "execution_count": 58,
      "outputs": [
        {
          "output_type": "stream",
          "name": "stdout",
          "text": [
            "Estimated number of clusters: 29\n"
          ]
        }
      ]
    },
    {
      "cell_type": "markdown",
      "source": [
        "Явно неоптимальное количество кластеров: одного слишком мало, 29 - многовато. Попробуем другой метод кластеризации."
      ],
      "metadata": {
        "id": "VkoUHq9wLuuN"
      }
    },
    {
      "cell_type": "code",
      "source": [
        "Z = hcluster.linkage(noun_verb_matrix, method='complete')\n",
        "plt.figure()\n",
        "dn = hcluster.dendrogram(Z)\n",
        "plt.show()"
      ],
      "metadata": {
        "colab": {
          "base_uri": "https://localhost:8080/",
          "height": 425
        },
        "id": "Z6a4X8vRTNm_",
        "outputId": "1d94742b-6bd2-48df-baed-633ebff9d7bd"
      },
      "execution_count": 75,
      "outputs": [
        {
          "output_type": "display_data",
          "data": {
            "text/plain": [
              "<Figure size 640x480 with 1 Axes>"
            ],
            "image/png": "[encoded data removed]"
          },
          "metadata": {}
        }
      ]
    },
    {
      "cell_type": "code",
      "source": [
        "clusters = hcluster.fcluster(Z, 1.14)\n",
        "print('Estimated number of clusters: %d' % len(set(clusters)))"
      ],
      "metadata": {
        "colab": {
          "base_uri": "https://localhost:8080/"
        },
        "id": "_rWhA3vOeLRX",
        "outputId": "b84bb33a-e393-4dff-9ea4-820db06cc746"
      },
      "execution_count": 93,
      "outputs": [
        {
          "output_type": "stream",
          "name": "stdout",
          "text": [
            "Estimated number of clusters: 13\n"
          ]
        }
      ]
    },
    {
      "cell_type": "code",
      "source": [
        "clusters"
      ],
      "metadata": {
        "colab": {
          "base_uri": "https://localhost:8080/"
        },
        "id": "Yo0rHBaflzFU",
        "outputId": "87da874f-390e-4816-cd14-80508d6df0e2"
      },
      "execution_count": 94,
      "outputs": [
        {
          "output_type": "execute_result",
          "data": {
            "text/plain": [
              "array([ 1,  1,  1, 12,  2, 12,  8,  1,  2, 13,  9,  4,  9,  6,  7,  2,  1,\n",
              "        4,  1,  1,  1, 13,  5, 10,  6,  9,  1,  1,  1, 13,  1,  4, 13, 10,\n",
              "        1,  1, 12,  9, 10,  1,  1,  1, 13, 10,  4,  2,  1,  4,  3,  4,  1,\n",
              "       10, 12,  1,  1,  8,  3, 11,  5, 11, 12, 10,  2,  1, 13,  1, 13,  6,\n",
              "        4,  1, 10,  3,  4,  7, 13,  7,  1,  7,  2, 10,  8,  4,  4, 13,  9,\n",
              "       10,  1,  1], dtype=int32)"
            ]
          },
          "metadata": {},
          "execution_count": 94
        }
      ]
    },
    {
      "cell_type": "markdown",
      "source": [
        "13 уже выглядит более приятным числом: не слишком мало, чтобы считать каждую конструкцию отдельным типом, но и не слишком много, чтобы не считать все отношения внутри словосочетаний одной и той же пропорцией. К тому же, где-то столько крупных веток видим на визуализации."
      ],
      "metadata": {
        "id": "7hsadJwReVDz"
      }
    },
    {
      "cell_type": "code",
      "source": [
        "c = 0\n",
        "branches = {}\n",
        "for cluster in clusters:\n",
        "    if cluster in branches:\n",
        "        branches[cluster].append(c)\n",
        "    else:\n",
        "        branches[cluster] = [c]\n",
        "    c += 1\n",
        "branches"
      ],
      "metadata": {
        "colab": {
          "base_uri": "https://localhost:8080/"
        },
        "id": "IbnRvF95mP9h",
        "outputId": "30965db6-1dbd-4fe4-9548-f2edd11bbbbf"
      },
      "execution_count": 97,
      "outputs": [
        {
          "output_type": "execute_result",
          "data": {
            "text/plain": [
              "{1: [0,\n",
              "  1,\n",
              "  2,\n",
              "  7,\n",
              "  16,\n",
              "  18,\n",
              "  19,\n",
              "  20,\n",
              "  26,\n",
              "  27,\n",
              "  28,\n",
              "  30,\n",
              "  34,\n",
              "  35,\n",
              "  39,\n",
              "  40,\n",
              "  41,\n",
              "  46,\n",
              "  50,\n",
              "  53,\n",
              "  54,\n",
              "  63,\n",
              "  65,\n",
              "  69,\n",
              "  76,\n",
              "  86,\n",
              "  87],\n",
              " 12: [3, 5, 36, 52, 60],\n",
              " 2: [4, 8, 15, 45, 62, 78],\n",
              " 8: [6, 55, 80],\n",
              " 13: [9, 21, 29, 32, 42, 64, 66, 74, 83],\n",
              " 9: [10, 12, 25, 37, 84],\n",
              " 4: [11, 17, 31, 44, 47, 49, 68, 72, 81, 82],\n",
              " 6: [13, 24, 67],\n",
              " 7: [14, 73, 75, 77],\n",
              " 5: [22, 58],\n",
              " 10: [23, 33, 38, 43, 51, 61, 70, 79, 85],\n",
              " 3: [48, 56, 71],\n",
              " 11: [57, 59]}"
            ]
          },
          "metadata": {},
          "execution_count": 97
        }
      ]
    },
    {
      "cell_type": "markdown",
      "source": [
        "Видим, что кластеры в основном имеют минимум 2 элемента, в основном больше. Посмотрим на их центры."
      ],
      "metadata": {
        "id": "ZMSZjA86ncUS"
      }
    },
    {
      "cell_type": "code",
      "source": [
        "from scipy.spatial import distance"
      ],
      "metadata": {
        "id": "hfyKb4K8qMy2"
      },
      "execution_count": 98,
      "outputs": []
    },
    {
      "cell_type": "code",
      "source": [
        "branches_centers = {}\n",
        "\n",
        "for i in branches:\n",
        "    if len(branches[i]) > 2:\n",
        "        vecs_in_branch = []\n",
        "        cosines = {}\n",
        "        for k in branches[i]: # Создадим матрицу векторов в кластере\n",
        "          vecs_in_branch.append(noun_verb_matrix[k])\n",
        "        center = np.mean(vecs_in_branch, axis=0) # Найдём центр\n",
        "        for k in branches[i]:\n",
        "          cosines[nouns[k]] = distance.cosine(center, noun_verb_matrix[k]) # Найдём расстояния\n",
        "        branches_centers[i] = sorted(cosines.keys())[0:3] # Найдём 3 ближайших к центру значения\n",
        "\n",
        "branches_centers"
      ],
      "metadata": {
        "colab": {
          "base_uri": "https://localhost:8080/"
        },
        "id": "tB9hAZhHnpVk",
        "outputId": "eb839b6d-bdf4-4527-f4ef-a7a0e5e83597"
      },
      "execution_count": 118,
      "outputs": [
        {
          "output_type": "execute_result",
          "data": {
            "text/plain": [
              "{1: ['бутылка_NOUN', 'ваза_NOUN', 'витрина_NOUN'],\n",
              " 12: ['бивак_NOUN', 'лагерь_NOUN', 'палатка_NOUN'],\n",
              " 2: ['армия_NOUN', 'войска_NOUN', 'генерал_NOUN'],\n",
              " 8: ['жизнь_NOUN', 'семья_NOUN', 'человек_NOUN'],\n",
              " 13: ['город_NOUN', 'дом_NOUN', 'клумба_NOUN'],\n",
              " 9: ['аппарат_NOUN', 'группа_NOUN', 'машина_NOUN'],\n",
              " 4: ['австриец_NOUN', 'большевик_NOUN', 'враг_NOUN'],\n",
              " 6: ['войско_NOUN', 'князь_NOUN', 'неприятель_NOUN'],\n",
              " 7: ['мечта_NOUN', 'надежда_NOUN', 'сердце_NOUN'],\n",
              " 10: ['земля_NOUN', 'камень_NOUN', 'лед_NOUN'],\n",
              " 3: ['корабль_NOUN', 'судно_NOUN', 'флот_NOUN']}"
            ]
          },
          "metadata": {},
          "execution_count": 118
        }
      ]
    },
    {
      "cell_type": "markdown",
      "source": [
        "Видим 11 кластеров, при этом разные значения глагола пойманы: действительно, разбить бутылку - не разбить лагерь. Сравним значения с значениями из толкового словаря Ушакова:\n",
        "\n",
        "1 кластер явно относится к стеклянным вещам и буквальному значению \"ударами разломать, раздробить, расколоть на куски\".\n",
        "\n",
        "12 кластер относится к значению \"раскинуть, расположить, устроить\".\n",
        "\n",
        "2 кластер относится к значению \"победить, нанести поражение\", к нему же относятся кластеры 6, и, возможно, 3 и 4. Кластер 6 и кластер 2 были, возможно, разнесены по разным кластерам относительно исторического контекста, в котором употребляются: князей явно побеждали раньше, чем генералов, и слова этого кластера более устаревшие.\n",
        "\n",
        "3 кластер может относится к значению \"победить, нанести поражение\", но \"корабль\" и \"судно\" также могут относиться к 1 кластеру. При этом видно, что иерархическая кластеризация разбила кластеры 2 и 3 по частотности морского и наземного контекста для существительных.\n",
        "\n",
        "Возможно, 4 кластер отделяется от 2 кластера по переносному значению того же, когда \"большевиков\" разбивают в дебатах, например, но это спекулятивно и неочевидно из набора существительных, поэтому обоснование этого разделения необязательно таково, и, может иерархическая кластеризация не объединила их из-за нашего порога t или расстояния слишком разрозненны по другим причинам.\n",
        "\n",
        "Кластер 8 и кластер 7 соответствуют значению \"расстроить, разрушить\", при этом 8 скорее относится к чему-то или кому-то более материальному, а 7 - к абстрактным чувствам.\n",
        "\n",
        "Кластер 13 соответствует значению \"устроить, произведя посадку чего–н., планировку\".\n",
        "\n",
        "Кластер 10 тоже соответствует значению \"ударами разломать, раздробить, расколоть на куски\", но его объекты отделяются от других объектов тем, что являются не отдельными предметами, а скорее плитами цельного материала. Это похоже на историю с фреймами: видимо, иерархическая кластеризация уловила разницу в зависимости от формы и однородности предмета разбиения, что часто улавливают и языки.\n",
        "\n",
        "Не до конца понятно, что находится в кластере 9: аппарат и машина должны, по идее, относится к 1 кластеру, а группа - хотя бы ко 2 кластеру. Тут иерархическая кластеризация немного не справилась с разделением, видимо, векторы близки по какой-то косвенной причине.\n",
        "\n",
        "Многие значения, однако, не были пойманы: например, \"разделить, распределить на части\", \"повредить, поранить какую–н. часть тела\"; также из-за особенностей выборки и анализа было недостаточно примеров с \"сделать бессильным, нетрудоспособным\" (было только одно словосочетание с \"паралич\"), поэтому это значение и не могло быть включено.\n",
        "\n",
        "В основном эта кластеризация обращала внимание на особенности семантики самих аргументов."
      ],
      "metadata": {
        "id": "P2j9mbSQ8bzb"
      }
    },
    {
      "cell_type": "markdown",
      "source": [
        "#### K средних"
      ],
      "metadata": {
        "id": "dj8TmIOd71eA"
      }
    },
    {
      "cell_type": "markdown",
      "source": [
        "Выберем здесь также 13 кластеров, чтобы сравнить кластеризацию разными способами."
      ],
      "metadata": {
        "id": "3jLouC7dgQSW"
      }
    },
    {
      "cell_type": "code",
      "source": [
        "from sklearn.cluster import KMeans"
      ],
      "metadata": {
        "id": "sz2cmAN-74ja"
      },
      "execution_count": 119,
      "outputs": []
    },
    {
      "cell_type": "code",
      "source": [
        "kmeans = KMeans(n_clusters=13).fit(noun_verb_matrix)"
      ],
      "metadata": {
        "colab": {
          "base_uri": "https://localhost:8080/"
        },
        "id": "iQpQZAekhCDy",
        "outputId": "5a88c555-2772-4a12-843d-ffbad72175f3"
      },
      "execution_count": 122,
      "outputs": [
        {
          "output_type": "stream",
          "name": "stderr",
          "text": [
            "/usr/local/lib/python3.10/dist-packages/sklearn/cluster/_kmeans.py:870: FutureWarning: The default value of `n_init` will change from 10 to 'auto' in 1.4. Set the value of `n_init` explicitly to suppress the warning\n",
            "  warnings.warn(\n"
          ]
        }
      ]
    },
    {
      "cell_type": "markdown",
      "source": [
        "Сделаем то же самое: соберём кластеры"
      ],
      "metadata": {
        "id": "uXHawEIF7cm3"
      }
    },
    {
      "cell_type": "code",
      "source": [
        "c = 0\n",
        "kmlusters = {}\n",
        "for cluster in kmeans.labels_:\n",
        "    if cluster in kmlusters:\n",
        "        kmlusters[cluster].append(c)\n",
        "    else:\n",
        "        kmlusters[cluster] = [c]\n",
        "    c += 1\n",
        "kmlusters"
      ],
      "metadata": {
        "colab": {
          "base_uri": "https://localhost:8080/"
        },
        "id": "WgxU1TE-5uHA",
        "outputId": "55e5bf0f-1c91-475d-815c-8e39967426c8"
      },
      "execution_count": 123,
      "outputs": [
        {
          "output_type": "execute_result",
          "data": {
            "text/plain": [
              "{10: [0, 2, 16, 30, 34, 40, 50, 63],\n",
              " 9: [1, 7, 10, 18, 19, 27, 51, 86],\n",
              " 11: [3, 5, 36, 52, 59, 60, 80],\n",
              " 7: [4, 8, 15, 25, 45, 62, 78],\n",
              " 2: [6, 14, 55, 58, 73, 75, 77],\n",
              " 6: [9, 29, 64, 74, 83],\n",
              " 4: [11, 13, 17, 22, 24, 31, 44, 47, 49, 67, 68, 72, 81, 82],\n",
              " 12: [12, 37, 48, 56, 71],\n",
              " 5: [20, 26, 35, 38, 39, 46, 54, 65, 70],\n",
              " 8: [21, 32, 42, 66, 84, 87],\n",
              " 1: [23, 33, 43, 61, 79, 85],\n",
              " 3: [28, 41, 53, 69, 76],\n",
              " 0: [57]}"
            ]
          },
          "metadata": {},
          "execution_count": 123
        }
      ]
    },
    {
      "cell_type": "markdown",
      "source": [
        "Тут в каждом из кластеров более равномерно распределены словосочетания, чем в иерархическом делении"
      ],
      "metadata": {
        "id": "khhIOYgo7ota"
      }
    },
    {
      "cell_type": "code",
      "source": [
        "kmeans_centers = {}\n",
        "\n",
        "for i in kmlusters:\n",
        "    if len(kmlusters[i]) > 2:\n",
        "        vecs_in_kmluster = []\n",
        "        cosines = {}\n",
        "        for k in kmlusters[i]: # Создадим матрицу векторов в кластере\n",
        "          vecs_in_kmluster.append(noun_verb_matrix[k])\n",
        "        center = np.mean(vecs_in_kmluster, axis=0) # Найдём центр\n",
        "        for k in kmlusters[i]:\n",
        "          cosines[nouns[k]] = distance.cosine(center, noun_verb_matrix[k]) # Найдём расстояния\n",
        "        kmeans_centers[i] = sorted(cosines.keys())[0:3] # Найдём 3 ближайших к центру значения\n",
        "\n",
        "kmeans_centers"
      ],
      "metadata": {
        "colab": {
          "base_uri": "https://localhost:8080/"
        },
        "id": "vdfXCAZlpoTL",
        "outputId": "8df620c5-4875-40b2-81e3-61bee9d19c2c"
      },
      "execution_count": 124,
      "outputs": [
        {
          "output_type": "execute_result",
          "data": {
            "text/plain": [
              "{10: ['витрина_NOUN', 'дверь_NOUN', 'зеркало_NOUN'],\n",
              " 9: ['голова_NOUN', 'лицо_NOUN', 'лоб_NOUN'],\n",
              " 11: ['бивак_NOUN', 'лагерь_NOUN', 'лошадь_NOUN'],\n",
              " 7: ['армия_NOUN', 'войска_NOUN', 'генерал_NOUN'],\n",
              " 2: ['жизнь_NOUN', 'мечта_NOUN', 'надежда_NOUN'],\n",
              " 6: ['дом_NOUN', 'сад_NOUN', 'садик_NOUN'],\n",
              " 4: ['австриец_NOUN', 'большевик_NOUN', 'войско_NOUN'],\n",
              " 12: ['аппарат_NOUN', 'корабль_NOUN', 'машина_NOUN'],\n",
              " 5: ['бутылка_NOUN', 'ваза_NOUN', 'горшок_NOUN'],\n",
              " 8: ['город_NOUN', 'клумба_NOUN', 'огород_NOUN'],\n",
              " 1: ['земля_NOUN', 'камень_NOUN', 'лед_NOUN'],\n",
              " 3: ['грудь_NOUN', 'губа_NOUN', 'колено_NOUN']}"
            ]
          },
          "metadata": {},
          "execution_count": 124
        }
      ]
    },
    {
      "cell_type": "markdown",
      "source": [
        "Сравним и эту кластеризацию с тем, какие значения она нашла:\n",
        "\n",
        "10, 5 и 1 кластер относятся к значению \"ударами разломать, раздробить, расколоть на куски\". При этом явно видно разделение объектов по форме, материалу, положению: 10 - вертикальные большие предметы, 5 - малые предметы, 1 - большие, горизонтальные, однородного материала предметы.\n",
        "\n",
        "9 и 3 кластеры относятся к значению \"повредить, поранить какую–н. часть тела\", которую не нашла иерархическая кластеризация; при этом кластеры разделили область у головы и другие части тела.\n",
        "\n",
        "11 кластер относится к значению \"раскинуть, расположить, устроить\", но лошадь попала сюда зря. С другой стороны, субъекты действия вообще не очень хорошо разбивались по кластерам, и семантическое поле некоторого путешествия можно наложить и на лошадь.\n",
        "\n",
        "7 и 4 кластеры относятся к значению \"победить, нанести поражение\", при этом не очень понятен принцип разделения.\n",
        "\n",
        "2 кластер относится к значению \"расстроить, разрушить\".\n",
        "\n",
        "6 и 8 кластер относятся к значению \"устроить, произведя посадку чего–н., планировку\", при этом разделение не очень понятно.\n",
        "\n",
        "Кластер 12 интересен тем, что может относиться не только к значению \"ударами разломать, раздробить, расколоть на куски\", но и к значению  \"повредить, разломать\": в этом значении объект может восприниматься как траектор, а не как ориентир, и \"аппарат\", \"машина\" и \"корабль\" вполне могут двигаться сами.\n",
        "\n",
        "Видим, что в этот раз значений получилось больше, но и похожих кластеров также немало. В целом значения разделения не было \"поймано\" ни одной из кластеризаций, может, это особенности выборки и затруднения интерпретации. В обеих кластеризациях увидели, что отличия в семантике глагола в сочетании с объектами замечаются кластеризациями в зависимости в том числе и от свойств объекта (формы, положения, etc.), даже если в словаре под это отводится одно значение.\n",
        "\n",
        "Обе кластеризации справились неплохо в выделении значений относительно датасета.\n"
      ],
      "metadata": {
        "id": "GHoAdvz3E6PN"
      }
    }
  ]
}